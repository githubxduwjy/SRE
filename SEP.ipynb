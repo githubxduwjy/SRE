{
 "cells": [
  {
   "cell_type": "markdown",
   "metadata": {},
   "source": [
    "##### 1.导入必要库"
   ]
  },
  {
   "cell_type": "code",
   "execution_count": 36,
   "metadata": {},
   "outputs": [],
   "source": [
    "import librosa\n",
    "import soundfile\n",
    "import os,glob,pickle\n",
    "import numpy as np\n",
    "from sklearn.model_selection import train_test_split\n",
    "from sklearn.neural_network import MLPClassifier\n",
    "from sklearn.metrics import accuracy_score\n",
    "import joblib\n"
   ]
  },
  {
   "cell_type": "code",
   "execution_count": 37,
   "metadata": {},
   "outputs": [],
   "source": [
    "def extract_feature(file_name,mfcc,chroma,mel):\n",
    "    with soundfile.SoundFile(file_name) as sound_file:\n",
    "        X = sound_file.read(dtype=\"float32\")\n",
    "        result = np.array([])\n",
    "        sample_rate = sound_file.samplerate\n",
    "        if  mfcc:\n",
    "            mfccs = np.mean(librosa.feature.mfcc(y=X,sr=sample_rate,n_mfcc=40).T,axis=0)\n",
    "            result = np.hstack((result,mfccs))\n",
    "        if chroma:\n",
    "            stft = np.abs(librosa.stft(X))\n",
    "            chroma = np.mean(librosa.feature.chroma_stft(S=stft,sr=sample_rate).T,axis=0)\n",
    "            result = np.hstack((result,chroma))\n",
    "        if mel:\n",
    "            mel = np.mean(librosa.feature.melspectrogram(y=X,sr=sample_rate).T,axis=0)\n",
    "            result = np.hstack((result,mel))\n",
    "        return result\n"
   ]
  },
  {
   "cell_type": "code",
   "execution_count": 38,
   "metadata": {},
   "outputs": [],
   "source": [
    "# 建立数字到情感的映射字典\n",
    "emotions ={\n",
    "    \"01\":\"neutral\",\n",
    "    \"02\":\"calm\",\n",
    "    \"03\":\"happy\",\n",
    "    \"04\":\"sad\",\n",
    "    \"05\":\"angry\",\n",
    "    \"06\":\"fearful\",\n",
    "    \"07\":\"disgust\",\n",
    "    \"08\":\"surprised\",\n",
    "}\n",
    "observed_emotions = ['calm','happy','sad','angry']\n"
   ]
  },
  {
   "cell_type": "code",
   "execution_count": 39,
   "metadata": {},
   "outputs": [],
   "source": [
    "def load_data(test_size=0.2):\n",
    "    x,y=[],[]\n",
    "    for file in glob.glob(\"./speech-emotion-recognition-ravdess-data/*/*.wav\"):\n",
    "        file_name = os.path.basename(file)\n",
    "        emotion = emotions[file_name.split(\"-\")[2]]\n",
    "        if emotion not in  observed_emotions:\n",
    "            continue\n",
    "        feature = extract_feature(file,mfcc=True,chroma=True,mel=True)\n",
    "        x.append(feature)\n",
    "        y.append(emotion)\n",
    "    return train_test_split(np.array(x),y,test_size=test_size,random_state=9)\n"
   ]
  },
  {
   "cell_type": "code",
   "execution_count": 40,
   "metadata": {},
   "outputs": [
    {
     "name": "stdout",
     "output_type": "stream",
     "text": [
      "(576, 180) 576\n"
     ]
    }
   ],
   "source": [
    "x_train,x_test,y_train,y_test = load_data(0.25)\n",
    "print(x_train.shape,len(y_train))"
   ]
  },
  {
   "cell_type": "code",
   "execution_count": 41,
   "metadata": {},
   "outputs": [
    {
     "name": "stdout",
     "output_type": "stream",
     "text": [
      "feature:180\n"
     ]
    }
   ],
   "source": [
    "print(f\"feature:{x_train.shape[1]}\")"
   ]
  },
  {
   "cell_type": "code",
   "execution_count": 122,
   "metadata": {},
   "outputs": [],
   "source": [
    "model = MLPClassifier(alpha=0.02,\n",
    "                      batch_size=256,\n",
    "                      activation='relu', \n",
    "                      solver='adam',\n",
    "                      epsilon=1e-08,\n",
    "                      hidden_layer_sizes=(300,),\n",
    "                      learning_rate='adaptive',\n",
    "                      max_iter=300)\n"
   ]
  },
  {
   "cell_type": "code",
   "execution_count": 123,
   "metadata": {},
   "outputs": [],
   "source": [
    "train_model = model.fit(x_train,y_train)"
   ]
  },
  {
   "cell_type": "code",
   "execution_count": 124,
   "metadata": {},
   "outputs": [],
   "source": [
    "y_pred = model.predict(x_test)\n"
   ]
  },
  {
   "cell_type": "code",
   "execution_count": 125,
   "metadata": {},
   "outputs": [
    {
     "name": "stdout",
     "output_type": "stream",
     "text": [
      "Accuracy:65.62%\n"
     ]
    }
   ],
   "source": [
    "accracy = accuracy_score(y_true=y_test,y_pred=y_pred)\n",
    "print(\"Accuracy:{:.2f}%\".format(accracy*100))"
   ]
  },
  {
   "cell_type": "code",
   "execution_count": 126,
   "metadata": {},
   "outputs": [
    {
     "data": {
      "text/plain": [
       "['./SEP.h5']"
      ]
     },
     "execution_count": 126,
     "metadata": {},
     "output_type": "execute_result"
    }
   ],
   "source": [
    "joblib.dump(train_model,'./SEP.h5')\n"
   ]
  },
  {
   "cell_type": "code",
   "execution_count": null,
   "metadata": {},
   "outputs": [],
   "source": []
  }
 ],
 "metadata": {
  "kernelspec": {
   "display_name": "pytorch",
   "language": "python",
   "name": "python3"
  },
  "language_info": {
   "codemirror_mode": {
    "name": "ipython",
    "version": 3
   },
   "file_extension": ".py",
   "mimetype": "text/x-python",
   "name": "python",
   "nbconvert_exporter": "python",
   "pygments_lexer": "ipython3",
   "version": "3.8.17"
  }
 },
 "nbformat": 4,
 "nbformat_minor": 2
}
