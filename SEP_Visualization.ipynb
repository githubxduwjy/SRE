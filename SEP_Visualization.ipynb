{
 "cells": [
  {
   "cell_type": "code",
   "execution_count": 35,
   "metadata": {},
   "outputs": [],
   "source": [
    "import os\n",
    "import numpy as np\n",
    "import gradio as gr\n",
    "import joblib\n",
    "import librosa\n",
    "import soundfile\n",
    "import wave\n",
    "from collections import Counter"
   ]
  },
  {
   "cell_type": "code",
   "execution_count": 36,
   "metadata": {},
   "outputs": [],
   "source": [
    "model = joblib.load('./SEP.h5')\n",
    "def extract_feature(audio_file):\n",
    "    with soundfile.SoundFile(audio_file) as sound_file:\n",
    "        X = sound_file.read(dtype=\"float32\")\n",
    "        result = np.array([])\n",
    "        sample_rate = sound_file.samplerate\n",
    "        mfccs = np.mean(librosa.feature.mfcc(y=X,sr=sample_rate,n_mfcc=40).T,axis=0)\n",
    "        result = np.hstack((result,mfccs))\n",
    "        stft = np.abs(librosa.stft(X))\n",
    "        chroma = np.mean(librosa.feature.chroma_stft(S=stft,sr=sample_rate).T,axis=0)\n",
    "        result = np.hstack((result,chroma))\n",
    "        mel = np.mean(librosa.feature.melspectrogram(y=X,sr=sample_rate).T,axis=0)\n",
    "        result = np.hstack((result,mel))\n",
    "        result = result.reshape(1, -1)\n",
    "        y_pred = model.predict(result)\n",
    "        print(y_pred)\n",
    "        return y_pred\n"
   ]
  },
  {
   "cell_type": "code",
   "execution_count": 47,
   "metadata": {},
   "outputs": [],
   "source": [
    "def main():\n",
    "    audio_input = gr.Audio(sources=[\"upload\"],type=\"filepath\")\n",
    "    output_text = gr.Textbox()\n",
    "    iface = gr.Interface(fn=extract_feature,\n",
    "                         inputs=audio_input,\n",
    "                         outputs=output_text,\n",
    "                         title=\"SEP\",\n",
    "                         description=\"upload an audio file and submit\",\n",
    "                         examples=[['calm.wav'],['sad.wav'],['happy.wav'],['angry.wav']])\n",
    "    iface.launch()\n"
   ]
  },
  {
   "cell_type": "code",
   "execution_count": 48,
   "metadata": {},
   "outputs": [
    {
     "name": "stdout",
     "output_type": "stream",
     "text": [
      "Running on local URL:  http://127.0.0.1:7867\n",
      "\n",
      "To create a public link, set `share=True` in `launch()`.\n"
     ]
    },
    {
     "data": {
      "text/html": [
       "<div><iframe src=\"http://127.0.0.1:7867/\" width=\"100%\" height=\"500\" allow=\"autoplay; camera; microphone; clipboard-read; clipboard-write;\" frameborder=\"0\" allowfullscreen></iframe></div>"
      ],
      "text/plain": [
       "<IPython.core.display.HTML object>"
      ]
     },
     "metadata": {},
     "output_type": "display_data"
    },
    {
     "name": "stdout",
     "output_type": "stream",
     "text": [
      "['angry']\n",
      "['calm']\n"
     ]
    }
   ],
   "source": [
    "if __name__==\"__main__\":\n",
    "    main()"
   ]
  },
  {
   "cell_type": "code",
   "execution_count": null,
   "metadata": {},
   "outputs": [],
   "source": []
  }
 ],
 "metadata": {
  "kernelspec": {
   "display_name": "pytorch",
   "language": "python",
   "name": "python3"
  },
  "language_info": {
   "codemirror_mode": {
    "name": "ipython",
    "version": 3
   },
   "file_extension": ".py",
   "mimetype": "text/x-python",
   "name": "python",
   "nbconvert_exporter": "python",
   "pygments_lexer": "ipython3",
   "version": "3.8.17"
  }
 },
 "nbformat": 4,
 "nbformat_minor": 2
}
